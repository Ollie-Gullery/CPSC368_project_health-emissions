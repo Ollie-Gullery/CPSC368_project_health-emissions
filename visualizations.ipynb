{
 "cells": [
  {
   "cell_type": "code",
   "execution_count": 1,
   "metadata": {},
   "outputs": [],
   "source": [
    "import pandas as pd\n",
    "import seaborn as sns\n",
    "import matplotlib.pyplot as plt"
   ]
  },
  {
   "cell_type": "code",
   "execution_count": 6,
   "metadata": {},
   "outputs": [],
   "source": [
    "country_data = pd.read_csv(\"data/clean/Country.csv\")\n",
    "emission_data = pd.read_csv(\"data/clean/EmissionData.csv\")\n",
    "health_exp_data = pd.read_csv(\"data/clean/HealthExpenditure.csv\")\n",
    "health_risk_data = pd.read_csv(\"data/clean/HealthRiskFactors.csv\")\n",
    "health_system_data = pd.read_csv(\"data/clean/HealthSystem.csv\")\n",
    "health_worker_data = pd.read_csv(\"data/clean/HealthWorkers.csv\")\n",
    "pop_death_data = pd.read_csv(\"data/clean/PopulationCauseOfDeath.csv\")\n",
    "prev_hiv_data = pd.read_csv(\"data/clean/PrevalenceOfHIV.csv\")\n",
    "\n",
    "\n"
   ]
  },
  {
   "cell_type": "code",
   "execution_count": 8,
   "metadata": {},
   "outputs": [],
   "source": [
    "data_list = [country_data,emission_data, health_exp_data,\n",
    "             health_risk_data,\n",
    "            health_system_data,\n",
    "            health_worker_data, \n",
    "            pop_death_data,\n",
    "            prev_hiv_data]"
   ]
  },
  {
   "cell_type": "code",
   "execution_count": 10,
   "metadata": {},
   "outputs": [
    {
     "name": "stdout",
     "output_type": "stream",
     "text": [
      "Index(['Unnamed: 0', 'CountryID', 'Name'], dtype='object')\n",
      "Index(['Unnamed: 0', 'CarbonDioxideEmissions', 'NitrousOxideEmissions',\n",
      "       'TotalGHGEmissions', 'MethaneEmissions', 'EmissionID', 'CountryID',\n",
      "       'Name'],\n",
      "      dtype='object')\n",
      "Index(['Unnamed: 0', 'HealthExpenditureID', 'HealthSystemID', 'PercentOfGDP',\n",
      "       'PercentOfPublicFunded', 'PercentOutOfPocketCosts', 'PerCapita',\n",
      "       'ExternalHealthExpenditure'],\n",
      "      dtype='object')\n",
      "Index(['Unnamed: 0', 'HealthRiskFactorID', 'CountryID', 'HealthSystemID',\n",
      "       'MaleTobaccoUse', 'FemaleTobaccoUse', 'IncidenceOfTuberculosis',\n",
      "       'PrevalenceOfDiabetes'],\n",
      "      dtype='object')\n",
      "Index(['Unnamed: 0', 'HealthSystemID', 'CountryID',\n",
      "       'CompletenessOfBirthRegistration', 'CompletenessOfDeathRegistration'],\n",
      "      dtype='object')\n",
      "Index(['Unnamed: 0', 'HealthWorkerID', 'HealthSystemID',\n",
      "       'NumberOfNursesMidwives', 'NumberOfSpecialistSurgicalWorkforce',\n",
      "       'NumberOfPhysicians'],\n",
      "      dtype='object')\n",
      "Index(['Unnamed: 0', 'DeathID', 'HealthRiskFactorID', 'Injuries',\n",
      "       'NonCommunicableDiseases', 'CommunicableDiseases'],\n",
      "      dtype='object')\n",
      "Index(['Unnamed: 0', 'HIVID', 'IncidenceOfHIV', 'DeathID', 'YouthMale',\n",
      "       'YouthFemale', 'WomanAge15Plus'],\n",
      "      dtype='object')\n"
     ]
    }
   ],
   "source": [
    "for data in data_list:\n",
    "    print(data.columns)\n"
   ]
  },
  {
   "cell_type": "code",
   "execution_count": null,
   "metadata": {},
   "outputs": [],
   "source": []
  }
 ],
 "metadata": {
  "kernelspec": {
   "display_name": "airbnb",
   "language": "python",
   "name": "python3"
  },
  "language_info": {
   "codemirror_mode": {
    "name": "ipython",
    "version": 3
   },
   "file_extension": ".py",
   "mimetype": "text/x-python",
   "name": "python",
   "nbconvert_exporter": "python",
   "pygments_lexer": "ipython3",
   "version": "3.10.0"
  }
 },
 "nbformat": 4,
 "nbformat_minor": 2
}
