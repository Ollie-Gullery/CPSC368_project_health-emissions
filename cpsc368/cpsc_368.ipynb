{
 "cells": [
  {
   "cell_type": "code",
   "execution_count": 12,
   "metadata": {},
   "outputs": [],
   "source": [
    "import pandas as pd\n",
    "import csv"
   ]
  },
  {
   "cell_type": "code",
   "execution_count": 13,
   "metadata": {},
   "outputs": [],
   "source": [
    "schema_name = 'Environment'  "
   ]
  },
  {
   "cell_type": "code",
   "execution_count": 14,
   "metadata": {},
   "outputs": [],
   "source": [
    "import csv\n",
    "\n",
    "def convert(value):\n",
    "    for type in [int, float]:\n",
    "        try:\n",
    "            return type(value)\n",
    "        except ValueError:\n",
    "            continue\n",
    "    # All other types failed; it is a string\n",
    "    return value\n",
    "\n",
    "def construct_insert_sql(file_path, table_name, schema_name, output_file_path):\n",
    "    string_SQL = ''\n",
    "    try:\n",
    "        with open(file_path, 'r') as file:            \n",
    "            reader = csv.reader(file)\n",
    "            headers = ','.join(next(reader))\n",
    "            for row in reader:\n",
    "                row = [convert(x) for x in row].__str__()[1:-1]\n",
    "                string_SQL += f'INSERT INTO {schema_name}.{table_name}({headers}) VALUES ({row});\\n'\n",
    "    except Exception as e:\n",
    "        return f'An error occurred: {str(e)}'\n",
    "\n",
    "    try:\n",
    "        with open(output_file_path, 'w') as out_file:\n",
    "            out_file.write(string_SQL)\n",
    "    except Exception as e:\n",
    "        return f'Failed to write to {output_file_path}: {str(e)}'\n",
    "\n",
    "    return f'SQL commands successfully written to {output_file_path}'"
   ]
  },
  {
   "cell_type": "code",
   "execution_count": 11,
   "metadata": {},
   "outputs": [
    {
     "name": "stdout",
     "output_type": "stream",
     "text": [
      "SQL commands successfully written to emissions_inserts.sql\n"
     ]
    }
   ],
   "source": [
    "\n",
    "output_file_path = 'emissions_inserts.sql' \n",
    "file_path = 'emissions.csv'  \n",
    "table_name = 'EmissionData'  \n",
    "schema_name = 'Environment'  \n",
    "\n",
    "\n",
    "print(construct_insert_sql(file_path, table_name, schema_name, output_file_path))"
   ]
  },
  {
   "cell_type": "code",
   "execution_count": 15,
   "metadata": {},
   "outputs": [
    {
     "name": "stdout",
     "output_type": "stream",
     "text": [
      "SQL commands successfully written to health_risk_factors_inserts.sql\n"
     ]
    }
   ],
   "source": [
    "\n",
    "output_file_path = 'health_risk_factors_inserts.sql' \n",
    "file_path = 'Health_Risk_factors.csv'  \n",
    "table_name = 'HealthRiskFactors'  \n",
    "schema_name = 'Environment'  \n",
    "\n",
    "\n",
    "print(construct_insert_sql(file_path, table_name, schema_name, output_file_path))"
   ]
  },
  {
   "cell_type": "code",
   "execution_count": null,
   "metadata": {},
   "outputs": [],
   "source": []
  },
  {
   "cell_type": "code",
   "execution_count": 16,
   "metadata": {},
   "outputs": [
    {
     "name": "stdout",
     "output_type": "stream",
     "text": [
      "SQL commands successfully written to health_system_inserts.sql\n"
     ]
    }
   ],
   "source": [
    "output_file_path = 'health_system_inserts.sql' \n",
    "file_path = 'health_system.csv'  \n",
    "table_name = 'HealthSystem'  \n",
    "schema_name = 'Environment'  \n",
    "\n",
    "print(construct_insert_sql(file_path, table_name, schema_name, output_file_path))"
   ]
  },
  {
   "cell_type": "code",
   "execution_count": null,
   "metadata": {},
   "outputs": [],
   "source": []
  }
 ],
 "metadata": {
  "kernelspec": {
   "display_name": "airbnb",
   "language": "python",
   "name": "python3"
  },
  "language_info": {
   "codemirror_mode": {
    "name": "ipython",
    "version": 3
   },
   "file_extension": ".py",
   "mimetype": "text/x-python",
   "name": "python",
   "nbconvert_exporter": "python",
   "pygments_lexer": "ipython3",
   "version": "3.10.0"
  }
 },
 "nbformat": 4,
 "nbformat_minor": 2
}
