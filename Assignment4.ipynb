{
 "cells": [
  {
   "cell_type": "markdown",
   "metadata": {},
   "source": [
    "# CPSC 368 ASSIGNMENT 4\n",
    "## Creating the SQL DDL File\n",
    "\n",
    "Kourosh Shahbazi | 87286076\n",
    "\n",
    "Oliver Gullery | 95292826\n",
    "\n",
    "\n",
    "Riddhi Battu | 85855856\n",
    "\n",
    "\n",
    "Sam Thorne | 83910448"
   ]
  },
  {
   "cell_type": "code",
   "execution_count": 228,
   "metadata": {
    "tags": []
   },
   "outputs": [],
   "source": [
    "# Importing necessary libraries:\n",
    "\n",
    "import pandas as pd\n",
    "import csv"
   ]
  },
  {
   "cell_type": "markdown",
   "metadata": {},
   "source": [
    "# Data cleaning and reorganizing"
   ]
  },
  {
   "cell_type": "code",
   "execution_count": 229,
   "metadata": {
    "tags": []
   },
   "outputs": [],
   "source": [
    "# Reading in raw data\n",
    "greenhouse = pd.read_csv('data/raw/greenhouse_gas_emissions.csv')\n",
    "healthRisk = pd.read_csv('data/raw/Health_Risk_factors.csv')\n",
    "healthSystem = pd.read_csv('data/raw/health_system.csv')\n",
    "emissions = pd.read_csv('data/raw/emissions.csv')"
   ]
  },
  {
   "cell_type": "markdown",
   "metadata": {},
   "source": [
    "### Country"
   ]
  },
  {
   "cell_type": "code",
   "execution_count": 230,
   "metadata": {
    "tags": []
   },
   "outputs": [
    {
     "data": {
      "text/plain": [
       "214"
      ]
     },
     "execution_count": 230,
     "metadata": {},
     "output_type": "execute_result"
    }
   ],
   "source": [
    "# Determining if the same number of countries are present in each file\n",
    "\n",
    "greenhouse['Country'].nunique()\n",
    "# 214 unique countries\n",
    "\n",
    "healthRisk['Country'].nunique()\n",
    "# 214 unique countries\n",
    "\n",
    "healthSystem['Country'].nunique()\n",
    "# 214 unique countries\n",
    "\n",
    "# ASSUMING ALL COUNTRIES ARE THE SAME..."
   ]
  },
  {
   "cell_type": "code",
   "execution_count": 231,
   "metadata": {
    "tags": []
   },
   "outputs": [],
   "source": [
    "# Building country data\n",
    "\n",
    "country_names = greenhouse['Country']\n",
    "\n",
    "# Creating CountryID column\n",
    "country = pd.DataFrame({'CountryID' : range(1, 214+1),\n",
    "                       'Name' : country_names})\n",
    "\n",
    "# Saving country csv\n",
    "country.to_csv('data/clean/Country.csv')"
   ]
  },
  {
   "cell_type": "markdown",
   "metadata": {},
   "source": [
    "### EmissionData\n",
    "\n",
    "EmissionID, CarbonDioxideEmissions, NitrousOxideEmissions, TotalGHGEmissions, MethaneEmissions,CountryID, Name\n"
   ]
  },
  {
   "cell_type": "code",
   "execution_count": 232,
   "metadata": {
    "tags": []
   },
   "outputs": [],
   "source": [
    "# greenhouse.info()\n",
    "# emissions.info()\n",
    "\n",
    "EmissionData = greenhouse\n",
    "\n",
    "# Renaming existing columns\n",
    "EmissionData['TotalGHGEmissions'] = greenhouse['Total greenhouse gas emissions  thousand metric tons of carbon dioxide equivalent 2012']\n",
    "EmissionData['CarbonDioxideEmissions'] = emissions['Carbon dioxide emissions Total thousand metric tons 2014']\n",
    "EmissionData['NitrousOxideEmissions'] = greenhouse['Nitrous oxide emissions  thousand metric tons of carbon dioxide equivalent 2012']\n",
    "EmissionData['MethaneEmissions'] = greenhouse['Methane emissions  thousand metric tons of carbon dioxide equivalent 2012']\n",
    "\n",
    "# Adding a unique column \n",
    "EmissionData['EmissionID'] = range(1, len(EmissionData.index)+1)\n",
    "\n",
    "# Selecting columns for subset.\n",
    "em = EmissionData[['CarbonDioxideEmissions', 'NitrousOxideEmissions', 'TotalGHGEmissions', 'MethaneEmissions', 'Country', 'EmissionID']]\n",
    "\n",
    "Country_renamed = country   \n",
    "Country_renamed['Country'] = country['Name']\n",
    "\n",
    "# Merging with country data for foreign keys\n",
    "emission_data = pd.merge(em, Country_renamed, how = 'inner', on = 'Country')\n",
    "emission_data = emission_data.drop('Country', axis=1)                                                     \n",
    "emission_data.to_csv('data/clean/EmissionData.csv') "
   ]
  },
  {
   "cell_type": "markdown",
   "metadata": {},
   "source": [
    "### HealthSystem\n",
    "\n",
    "HealthSystemID, CountryID, CompletenessOfBirthRegistration, CompeltenessOfDeathRegistration"
   ]
  },
  {
   "cell_type": "code",
   "execution_count": 233,
   "metadata": {
    "tags": []
   },
   "outputs": [],
   "source": [
    "# healthSystem.info()\n",
    "\n",
    "# Creating unique column for primary key\n",
    "healthSystem['HealthSystemID'] = range(1, len(healthSystem.index)+1)\n",
    "\n",
    "# Renaming existing columns\n",
    "healthSystem['CompletenessOfBirthRegistration'] = healthSystem['Completeness of birth registration  % 2009-18']\n",
    "healthSystem['CompletenessOfDeathRegistration'] = healthSystem['Completeness of death registration  % 2008-16']\n",
    "\n",
    "# Merging with country for foreign keys\n",
    "hs = pd.merge(Country_renamed, healthSystem, how = 'inner', on = 'Country')\n",
    "\n",
    "# Selecting column subset\n",
    "HealthSystem = hs[['HealthSystemID', 'CountryID', 'CompletenessOfDeathRegistration', 'CompletenessOfDeathRegistration']]\n",
    "\n",
    "HealthSystem.to_csv('data/clean/HealthSystem.csv')"
   ]
  },
  {
   "cell_type": "markdown",
   "metadata": {},
   "source": [
    "### HealthExpenditure\n",
    "\n",
    "HealthExpenditureID, HealthSystemID, %OfGDP, %OfPublicFunded, %OutOfPocketCosts, PerCapita, ExternalHealthExpenditure"
   ]
  },
  {
   "cell_type": "code",
   "execution_count": 234,
   "metadata": {
    "tags": []
   },
   "outputs": [],
   "source": [
    "# healthSystem.info()\n",
    "\n",
    "# Creating unique column for primary key\n",
    "healthSystem['HealthExpenditureID'] = range(1, len(healthSystem.index)+1)\n",
    "\n",
    "# Renaming existing columns\n",
    "healthSystem['PercentOfGDP'] = healthSystem['Health expenditure Current % of GDP 2016']\n",
    "healthSystem['PercentOfPublicFunded'] = healthSystem['Health expenditure Public % of current 2016']\n",
    "healthSystem['PercentOutOfPocketCosts'] = healthSystem['Health expenditure Out of pocket % of current 2016']\n",
    "healthSystem['PerCapita'] = healthSystem['Health expenditure per capita $ 2016']\n",
    "healthSystem['ExternalHealthExpenditure'] = healthSystem['External health expenditure (% of current health expenditure)   2016']\n",
    "\n",
    "# Selecting column subset\n",
    "he = healthSystem[['HealthExpenditureID', 'HealthSystemID', 'PercentOfGDP', 'PercentOfPublicFunded', 'PercentOutOfPocketCosts', 'PerCapita', 'ExternalHealthExpenditure']]\n",
    "\n",
    "he.to_csv('data/clean/HealthExpenditure.csv')"
   ]
  },
  {
   "cell_type": "markdown",
   "metadata": {},
   "source": [
    "### HealthWorkers\n",
    "HealthWorkerID, HealthSystemID, #OfNursesMidwives, #OfSpecialistSurgicalWorkforce, #OfPhysicians"
   ]
  },
  {
   "cell_type": "code",
   "execution_count": 235,
   "metadata": {
    "tags": []
   },
   "outputs": [],
   "source": [
    "# healthSystem.info()\n",
    "\n",
    "# Creating unique column for primary key\n",
    "healthSystem['HealthWorkerID'] = range(1, len(healthSystem.index)+1)\n",
    "\n",
    "# Renaming existing columns\n",
    "healthSystem['NumberOfNursesMidwives'] = healthSystem['Health workers Nurses and midwives per 1,000 people 2009-18']\n",
    "healthSystem['NumberOfSpecialistSurgicalWorkforce'] = healthSystem['Specialist surgical workforce  per 100,000 population 2008-18']\n",
    "healthSystem['NumberOfPhysicians'] = healthSystem['Health workers Physicians per 1,000 people 2009-18']\n",
    "\n",
    "# Selecting column subset\n",
    "hw = healthSystem[['HealthWorkerID', 'HealthSystemID', 'NumberOfNursesMidwives', 'NumberOfSpecialistSurgicalWorkforce', 'NumberOfPhysicians']]\n",
    "\n",
    "hw.to_csv('data/clean/HealthWorkers.csv')"
   ]
  },
  {
   "cell_type": "markdown",
   "metadata": {},
   "source": [
    "### HealthRiskFactors\n",
    "HealthRiskFactorID, CountryID, HealthSystemID MaleTobaccoUse, FemaleTobaccoUse, IncidenceOfTuberculosis, PrevalenceOfDiabetes"
   ]
  },
  {
   "cell_type": "code",
   "execution_count": 236,
   "metadata": {
    "tags": []
   },
   "outputs": [],
   "source": [
    "# healthRisk.info()\n",
    "\n",
    "# Creating unique column for primary key\n",
    "healthRisk['HealthRiskFactorID'] = range(1, len(healthRisk.index)+1)\n",
    "\n",
    "# Merging with country for foreign key\n",
    "hrf = pd.merge(healthRisk,Country_renamed, how = 'inner', on = 'Country')\n",
    "\n",
    "# Merging with health systems for foreign key\n",
    "hrf_hs = pd.merge(hrf, HealthSystem, how = 'inner', on = 'CountryID')\n",
    "\n",
    "# renaming existing columns\n",
    "hrf_hs['MaleTobaccoUse'] = healthRisk['Prevalence of smoking Male % of adults 2016']\n",
    "hrf_hs['FemaleTobaccoUse'] = healthRisk['Prevalence of smoking female % of adults 2016']\n",
    "hrf_hs['IncidenceOfTuberculosis'] = healthRisk['Incidence of tuberculosis  per 100,000 people 2018']\n",
    "hrf_hs['PrevalenceOfDiabetes'] = healthRisk['Prevalence of diabetes  % of population ages 20 to 79 2019']\n",
    "\n",
    "# selecting useful column subset.\n",
    "HealthRiskFactors = hrf_hs[['HealthRiskFactorID', 'CountryID', 'HealthSystemID', 'MaleTobaccoUse', 'FemaleTobaccoUse', 'IncidenceOfTuberculosis', 'PrevalenceOfDiabetes']]\n",
    "\n",
    "HealthRiskFactors.to_csv('data/clean/HealthRiskFactors.csv')"
   ]
  },
  {
   "cell_type": "markdown",
   "metadata": {},
   "source": [
    "### PopulationCauseOfDeath\n",
    "DeathID, HealthRiskFactorID, Injuries, NonCommunicableDiseases, CommunicableDiseases"
   ]
  },
  {
   "cell_type": "code",
   "execution_count": 237,
   "metadata": {
    "tags": []
   },
   "outputs": [],
   "source": [
    "# healthRisk.info()\n",
    "\n",
    "# Creating unique column for primary key\n",
    "healthRisk['DeathID'] = range(1, len(healthRisk.index)+1)\n",
    "\n",
    "# renaming columns\n",
    "healthRisk['Injuries'] = healthRisk['Cause of death Injuries % of population 2016']\n",
    "healthRisk['NonCommunicableDiseases'] = healthRisk['Cause of death Non-communicable diseases % of population 2016']\n",
    "healthRisk['CommunicableDiseases'] = healthRisk['Cause of death Communicable diseases and maternal, prenatal, and nutrition conditions % of population 2016']\n",
    "\n",
    "# selecting useful column subset\n",
    "PopulationCauseOfDeath = healthRisk[['DeathID', 'HealthRiskFactorID', 'Injuries', 'NonCommunicableDiseases', 'CommunicableDiseases']]\n",
    "\n",
    "PopulationCauseOfDeath.to_csv('data/clean/PopulationCauseOfDeath.csv')"
   ]
  },
  {
   "cell_type": "markdown",
   "metadata": {},
   "source": [
    "### PrevalanceOfHIV\n",
    "IncidenceOfHIV, DeathID, YouthMale, YouthFemale, WomanAge15Plus"
   ]
  },
  {
   "cell_type": "code",
   "execution_count": 238,
   "metadata": {
    "tags": []
   },
   "outputs": [],
   "source": [
    "# healthRisk.info()\n",
    "\n",
    "# Renmaing columns\n",
    "healthRisk['YouthMale'] = healthRisk['Prevalence of HIV Youth, Male % of population ages 15-24 2018']\n",
    "healthRisk['IncidenceOfHIV'] = healthRisk['Incidence of HIV Total per 1,000 uninfected population ages 15-49 2018']\n",
    "healthRisk['YouthFemale'] = healthRisk['Prevalence of HIV Youth, Female % of population ages 15-24 2018']\n",
    "healthRisk['WomanAge15Plus'] = healthRisk[\"Prevalence of HIV Women's share of population ages 15+ living with HIV % 2018\"]\n",
    "\n",
    "# Selecting useful columns (making subset)\n",
    "pHIV = healthRisk[['IncidenceOfHIV', 'DeathID', 'YouthMale', 'YouthFemale', 'WomanAge15Plus']]\n",
    "\n",
    "pHIV.to_csv('data/clean/PrevalenceOfHIV.csv')"
   ]
  },
  {
   "cell_type": "markdown",
   "metadata": {},
   "source": [
    "# Building inserts for the schema"
   ]
  },
  {
   "cell_type": "code",
   "execution_count": 239,
   "metadata": {
    "tags": []
   },
   "outputs": [],
   "source": [
    "# Naming the schema\n",
    "\n",
    "schema_name = 'Environment'  "
   ]
  },
  {
   "cell_type": "code",
   "execution_count": 240,
   "metadata": {
    "tags": []
   },
   "outputs": [],
   "source": [
    "# Defining functions to generate insert statements:\n",
    "\n",
    "\n",
    "def convert(value):\n",
    "    for type in [int, float]:\n",
    "        try:\n",
    "            return type(value)\n",
    "        except ValueError:\n",
    "            continue\n",
    "    if isinstance(value, str):\n",
    "        return value.replace(\"'\", \"''\")\n",
    "    return value\n",
    "\n",
    "    return value\n",
    "\n",
    "def construct_insert_sql(file_path, table_name, schema_name, output_file_path):\n",
    "    string_SQL = ''\n",
    "    try:\n",
    "        with open(file_path, 'r') as file:            \n",
    "            reader = csv.reader(file)\n",
    "            headers = next(reader)\n",
    "            headers = [header.strip() for header in headers[1:] if header.strip()]\n",
    "            headers_joined = ','.join(headers)\n",
    "            for row in reader:\n",
    "                row_converted = [convert(x) for x in row[1:]]\n",
    "                row_str = ','.join([f\"'{x}'\" if isinstance(x, str) else str(x) for x in row_converted])\n",
    "                string_SQL += f'INSERT INTO {schema_name}.{table_name}({headers_joined}) VALUES ({row_str});\\n' \n",
    "    except Exception as e:\n",
    "        return f'An error occurred: {str(e)}'\n",
    "\n",
    "    try:\n",
    "        with open(output_file_path, 'w') as out_file:\n",
    "            out_file.write(string_SQL)\n",
    "    except Exception as e:\n",
    "        return f'Failed to write to {output_file_path}: {str(e)}'\n",
    "\n",
    "    return f'SQL commands successfully written to {output_file_path}'"
   ]
  },
  {
   "cell_type": "code",
   "execution_count": 241,
   "metadata": {
    "tags": []
   },
   "outputs": [
    {
     "name": "stdout",
     "output_type": "stream",
     "text": [
      "SQL commands successfully written to Inserts/country_inserts.sql\n"
     ]
    }
   ],
   "source": [
    "# Generating insert statements for Country\n",
    "# CountryID, Name\n",
    "\n",
    "output_file_path = 'Inserts/country_inserts.sql'\n",
    "file_path = 'data/clean/Country.csv'\n",
    "table_name = \"Country\"\n",
    "schema_name = \"Environment\"\n",
    "\n",
    "print(construct_insert_sql(file_path, table_name, schema_name, output_file_path))\n"
   ]
  },
  {
   "cell_type": "code",
   "execution_count": 242,
   "metadata": {
    "tags": []
   },
   "outputs": [
    {
     "name": "stdout",
     "output_type": "stream",
     "text": [
      "SQL commands successfully written to Inserts/emissions_inserts.sql\n"
     ]
    }
   ],
   "source": [
    "# Generating insert statements for EmissionData\n",
    "\n",
    "output_file_path = 'Inserts/emissions_inserts.sql' \n",
    "file_path = 'data/clean/EmissionData.csv'  \n",
    "table_name = 'EmissionData'  \n",
    "schema_name = 'Environment'  \n",
    "\n",
    "\n",
    "print(construct_insert_sql(file_path, table_name, schema_name, output_file_path))"
   ]
  },
  {
   "cell_type": "code",
   "execution_count": 243,
   "metadata": {
    "tags": []
   },
   "outputs": [
    {
     "name": "stdout",
     "output_type": "stream",
     "text": [
      "SQL commands successfully written to Inserts/health_system_inserts.sql\n"
     ]
    }
   ],
   "source": [
    "# Generating insert statements for HealthSystem\n",
    "\n",
    "output_file_path = 'Inserts/health_system_inserts.sql' \n",
    "file_path = 'data/clean/HealthSystem.csv'  \n",
    "table_name = 'HealthSystem'  \n",
    "schema_name = 'Environment'  \n",
    "\n",
    "print(construct_insert_sql(file_path, table_name, schema_name, output_file_path))"
   ]
  },
  {
   "cell_type": "code",
   "execution_count": 244,
   "metadata": {
    "tags": []
   },
   "outputs": [
    {
     "name": "stdout",
     "output_type": "stream",
     "text": [
      "SQL commands successfully written to Inserts/health_expenditure_inserts.sql\n"
     ]
    }
   ],
   "source": [
    "# Generating insert statements for HealthExpenditure\n",
    "\n",
    "output_file_path = 'Inserts/health_expenditure_inserts.sql' \n",
    "file_path = 'data/clean/HealthExpenditure.csv'  \n",
    "table_name = 'HealthExpenditure'  \n",
    "schema_name = 'Environment'  \n",
    "\n",
    "print(construct_insert_sql(file_path, table_name, schema_name, output_file_path))"
   ]
  },
  {
   "cell_type": "code",
   "execution_count": 245,
   "metadata": {
    "tags": []
   },
   "outputs": [
    {
     "name": "stdout",
     "output_type": "stream",
     "text": [
      "SQL commands successfully written to Inserts/health_workers_inserts.sql\n"
     ]
    }
   ],
   "source": [
    "# Generating insert statements for HealthWorkers\n",
    "\n",
    "output_file_path = 'Inserts/health_workers_inserts.sql' \n",
    "file_path = 'data/clean/HealthWorkers.csv'  \n",
    "table_name = 'HealthWorkers'  \n",
    "schema_name = 'Environment'  \n",
    "\n",
    "print(construct_insert_sql(file_path, table_name, schema_name, output_file_path))"
   ]
  },
  {
   "cell_type": "code",
   "execution_count": 246,
   "metadata": {
    "tags": []
   },
   "outputs": [
    {
     "name": "stdout",
     "output_type": "stream",
     "text": [
      "SQL commands successfully written to Inserts/health_risk_factors_inserts.sql\n"
     ]
    }
   ],
   "source": [
    "# Generating insert statements for HealthRiskFactors\n",
    "\n",
    "output_file_path = 'Inserts/health_risk_factors_inserts.sql' \n",
    "file_path = 'data/clean/HealthRiskFactors.csv'  \n",
    "table_name = 'HealthRiskFactors'  \n",
    "schema_name = 'Environment'  \n",
    "\n",
    "print(construct_insert_sql(file_path, table_name, schema_name, output_file_path))"
   ]
  },
  {
   "cell_type": "code",
   "execution_count": 247,
   "metadata": {
    "tags": []
   },
   "outputs": [
    {
     "name": "stdout",
     "output_type": "stream",
     "text": [
      "SQL commands successfully written to Inserts/population_cause_of_death_inserts.sql\n"
     ]
    }
   ],
   "source": [
    "# Generating insert statements for PopulationCauseOfDeath\n",
    "\n",
    "output_file_path = 'Inserts/population_cause_of_death_inserts.sql' \n",
    "file_path = 'data/clean/PopulationCauseOfDeath.csv'  \n",
    "table_name = 'PopulationCauseOfDeath'  \n",
    "schema_name = 'Environment'  \n",
    "\n",
    "print(construct_insert_sql(file_path, table_name, schema_name, output_file_path))"
   ]
  },
  {
   "cell_type": "code",
   "execution_count": 248,
   "metadata": {
    "tags": []
   },
   "outputs": [
    {
     "name": "stdout",
     "output_type": "stream",
     "text": [
      "SQL commands successfully written to Inserts/prevalence_of_hiv_inserts.sql\n"
     ]
    }
   ],
   "source": [
    "# Generating insert statements for PrevalenceOfHIV\n",
    "\n",
    "output_file_path = 'Inserts/prevalence_of_hiv_inserts.sql' \n",
    "file_path = 'data/clean/PrevalenceOfHIV.csv'  \n",
    "table_name = 'PrevalenceOfHIV'  \n",
    "schema_name = 'Environment'  \n",
    "\n",
    "print(construct_insert_sql(file_path, table_name, schema_name, output_file_path))"
   ]
  },
  {
   "cell_type": "code",
   "execution_count": 249,
   "metadata": {},
   "outputs": [],
   "source": [
    "def combine_sql_files(schema_file_path, insert_file_path, output_file_path):\n",
    "    try:\n",
    "        with open(schema_file_path, 'r') as file:\n",
    "            schema_sql = file.read()\n",
    "\n",
    "        with open(insert_file_path, 'r') as file:\n",
    "            insert_sql = file.read()\n",
    "\n",
    "        combined_sql = f\"{schema_sql}\\n\\n{insert_sql}\"\n",
    "\n",
    "        with open(output_file_path, 'w') as file:\n",
    "            file.write(combined_sql)\n",
    "\n",
    "        return f\"Successfully combined into {output_file_path}\"\n",
    "    except Exception as e:\n",
    "        return f\"An error occurred: {str(e)}\"\n",
    "\n",
    "\n",
    "schema_file_path = 'SQL_DDL.sql'\n",
    "output_file_path = 'SQL_SCHEMA_CREATION.sql'\n"
   ]
  },
  {
   "cell_type": "code",
   "execution_count": 250,
   "metadata": {},
   "outputs": [],
   "source": [
    "insert_file_path_list = ['Inserts/country_inserts.sql', \n",
    "                         \"Inserts/emissions_inserts.sql\",\n",
    "                         \"Inserts/health_expenditure_inserts.sql\",\n",
    "                         \"Inserts/health_risk_factors_inserts.sql\",\n",
    "                         \"Inserts/health_system_inserts.sql\",\n",
    "                         \"Inserts/health_workers_inserts.sql\",\n",
    "                         \"Inserts/population_cause_of_death_inserts.sql\",\n",
    "                         \"Inserts/prevalence_of_hiv_inserts.sql\"    \n",
    "]               "
   ]
  },
  {
   "cell_type": "code",
   "execution_count": 251,
   "metadata": {},
   "outputs": [],
   "source": [
    "count = 0\n",
    "for insert_file_path in insert_file_path_list:\n",
    "    if count == 0:\n",
    "        combine_sql_files(schema_file_path, insert_file_path, output_file_path)\n",
    "    else:\n",
    "        combine_sql_files(output_file_path, insert_file_path, output_file_path)\n",
    "        \n",
    "    count += 1"
   ]
  },
  {
   "cell_type": "code",
   "execution_count": 252,
   "metadata": {},
   "outputs": [],
   "source": [
    "file_path_list = ['data/clean/Country.csv', \n",
    "                         \"data/clean/EmissionData.csv\",\n",
    "                         \"data/clean/HealthExpenditure.csv\",\n",
    "                         \"data/clean/HealthRiskFactors.csv\",\n",
    "                         \"data/clean/HealthSystem.csv\",\n",
    "                         \"data/clean/HealthWorkers.csv\",\n",
    "                         \"data/clean/PopulationCauseOfDeath.csv\",\n",
    "                         \"data/clean/PrevalenceOfHIV.csv\"    \n",
    "]    "
   ]
  },
  {
   "cell_type": "code",
   "execution_count": 253,
   "metadata": {},
   "outputs": [
    {
     "name": "stdout",
     "output_type": "stream",
     "text": [
      "Unnamed: 0     int64\n",
      "CountryID      int64\n",
      "Name          object\n",
      "dtype: object\n",
      "\n",
      "Unnamed: 0                  int64\n",
      "CarbonDioxideEmissions    float64\n",
      "NitrousOxideEmissions     float64\n",
      "TotalGHGEmissions         float64\n",
      "MethaneEmissions          float64\n",
      "EmissionID                  int64\n",
      "CountryID                   int64\n",
      "Name                       object\n",
      "dtype: object\n",
      "\n",
      "Unnamed: 0                     int64\n",
      "HealthExpenditureID            int64\n",
      "HealthSystemID                 int64\n",
      "PercentOfGDP                 float64\n",
      "PercentOfPublicFunded        float64\n",
      "PercentOutOfPocketCosts      float64\n",
      "PerCapita                    float64\n",
      "ExternalHealthExpenditure    float64\n",
      "dtype: object\n",
      "\n",
      "Unnamed: 0                   int64\n",
      "HealthRiskFactorID           int64\n",
      "CountryID                    int64\n",
      "HealthSystemID               int64\n",
      "MaleTobaccoUse             float64\n",
      "FemaleTobaccoUse           float64\n",
      "IncidenceOfTuberculosis    float64\n",
      "PrevalenceOfDiabetes       float64\n",
      "dtype: object\n",
      "\n",
      "Unnamed: 0                             int64\n",
      "HealthSystemID                         int64\n",
      "CountryID                              int64\n",
      "CompletenessOfDeathRegistration      float64\n",
      "CompletenessOfDeathRegistration.1    float64\n",
      "dtype: object\n",
      "\n",
      "Unnamed: 0                               int64\n",
      "HealthWorkerID                           int64\n",
      "HealthSystemID                           int64\n",
      "NumberOfNursesMidwives                 float64\n",
      "NumberOfSpecialistSurgicalWorkforce    float64\n",
      "NumberOfPhysicians                     float64\n",
      "dtype: object\n",
      "\n",
      "Unnamed: 0                   int64\n",
      "DeathID                      int64\n",
      "HealthRiskFactorID           int64\n",
      "Injuries                   float64\n",
      "NonCommunicableDiseases    float64\n",
      "CommunicableDiseases       float64\n",
      "dtype: object\n",
      "\n",
      "Unnamed: 0          int64\n",
      "IncidenceOfHIV    float64\n",
      "DeathID             int64\n",
      "YouthMale         float64\n",
      "YouthFemale       float64\n",
      "WomanAge15Plus    float64\n",
      "dtype: object\n",
      "\n"
     ]
    }
   ],
   "source": [
    "for file_path in file_path_list:\n",
    "    temp_df = pd.read_csv(file_path)\n",
    "    print(f'{temp_df.dtypes}\\n')"
   ]
  },
  {
   "cell_type": "code",
   "execution_count": null,
   "metadata": {},
   "outputs": [],
   "source": []
  }
 ],
 "metadata": {
  "kernelspec": {
   "display_name": "Python 3 (ipykernel)",
   "language": "python",
   "name": "python3"
  },
  "language_info": {
   "codemirror_mode": {
    "name": "ipython",
    "version": 3
   },
   "file_extension": ".py",
   "mimetype": "text/x-python",
   "name": "python",
   "nbconvert_exporter": "python",
   "pygments_lexer": "ipython3",
   "version": "3.10.0"
  }
 },
 "nbformat": 4,
 "nbformat_minor": 4
}
