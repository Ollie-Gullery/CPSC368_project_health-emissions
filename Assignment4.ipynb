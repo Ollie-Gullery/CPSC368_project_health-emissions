{
 "cells": [
  {
   "cell_type": "markdown",
   "metadata": {},
   "source": [
    "# CPSC 368 ASSIGNMENT 4\n",
    "## Creating the SQL DDL File\n",
    "\n",
    "Kourosh Shahbazi | 87286076\n",
    "\n",
    "Oliver Gullery | 95292826\n",
    "\n",
    "\n",
    "Riddhi Battu | 85855856\n",
    "\n",
    "\n",
    "Sam Thorne | 83910448"
   ]
  },
  {
   "cell_type": "code",
   "execution_count": 2,
   "metadata": {
    "tags": []
   },
   "outputs": [],
   "source": [
    "# Importing necessary libraries:\n",
    "\n",
    "import pandas as pd\n",
    "import csv"
   ]
  },
  {
   "cell_type": "markdown",
   "metadata": {},
   "source": [
    "# Data cleaning and reorganizing"
   ]
  },
  {
   "cell_type": "code",
   "execution_count": 3,
   "metadata": {
    "tags": []
   },
   "outputs": [],
   "source": [
    "# Reading in raw data\n",
    "greenhouse = pd.read_csv('data/raw/greenhouse_gas_emissions.csv')\n",
    "healthRisk = pd.read_csv('data/raw/Health_Risk_factors.csv')\n",
    "healthSystem = pd.read_csv('data/raw/health_system.csv')\n",
    "emissions = pd.read_csv('data/raw/emissions.csv')"
   ]
  },
  {
   "cell_type": "markdown",
   "metadata": {},
   "source": [
    "### Country"
   ]
  },
  {
   "cell_type": "code",
   "execution_count": 4,
   "metadata": {
    "tags": []
   },
   "outputs": [
    {
     "data": {
      "text/plain": [
       "214"
      ]
     },
     "execution_count": 4,
     "metadata": {},
     "output_type": "execute_result"
    }
   ],
   "source": [
    "# Determining if the same number of countries are present in each file\n",
    "\n",
    "greenhouse['Country'].nunique()\n",
    "# 214 unique countries\n",
    "\n",
    "healthRisk['Country'].nunique()\n",
    "# 214 unique countries\n",
    "\n",
    "healthSystem['Country'].nunique()\n",
    "# 214 unique countries\n",
    "\n",
    "# ASSUMING ALL COUNTRIES ARE THE SAME..."
   ]
  },
  {
   "cell_type": "code",
   "execution_count": 5,
   "metadata": {
    "tags": []
   },
   "outputs": [],
   "source": [
    "# Building country data\n",
    "\n",
    "country_names = greenhouse['Country']\n",
    "\n",
    "# Creating CountryID column\n",
    "country = pd.DataFrame({'CountryID' : range(1, 214+1),\n",
    "                       'Name' : country_names})\n",
    "\n",
    "# Saving country csv\n",
    "country.to_csv('data/clean/Country.csv')"
   ]
  },
  {
   "cell_type": "markdown",
   "metadata": {},
   "source": [
    "### EmissionData\n",
    "\n",
    "EmissionID, CarbonDioxideEmissions, NitrousOxideEmissions, TotalGHGEmissions, MethaneEmissions,CountryID, Name\n"
   ]
  },
  {
   "cell_type": "code",
   "execution_count": 6,
   "metadata": {
    "tags": []
   },
   "outputs": [],
   "source": [
    "# greenhouse.info()\n",
    "# emissions.info()\n",
    "\n",
    "EmissionData = greenhouse\n",
    "\n",
    "# Renaming existing columns\n",
    "EmissionData['TotalGHGEmissions'] = greenhouse['Total greenhouse gas emissions  thousand metric tons of carbon dioxide equivalent 2012']\n",
    "EmissionData['CarbonDioxideEmissions'] = emissions['Carbon dioxide emissions Total thousand metric tons 2014']\n",
    "EmissionData['NitrousOxideEmissions'] = greenhouse['Nitrous oxide emissions  thousand metric tons of carbon dioxide equivalent 2012']\n",
    "EmissionData['MethaneEmissions'] = greenhouse['Methane emissions  thousand metric tons of carbon dioxide equivalent 2012']\n",
    "\n",
    "# Adding a unique column \n",
    "EmissionData['EmissionID'] = range(1, len(EmissionData.index)+1)\n",
    "\n",
    "# Selecting columns for subset.\n",
    "em = EmissionData[['CarbonDioxideEmissions', 'NitrousOxideEmissions', 'TotalGHGEmissions', 'MethaneEmissions', 'Country', 'EmissionID']]\n",
    "\n",
    "Country_renamed = country   \n",
    "Country_renamed['Country'] = country['Name']\n",
    "\n",
    "# Merging with country data for foreign keys\n",
    "emission_data = pd.merge(em, Country_renamed, how = 'inner', on = 'Country')\n",
    "                                                         \n",
    "emission_data.to_csv('data/clean/EmissionData.csv') "
   ]
  },
  {
   "cell_type": "markdown",
   "metadata": {},
   "source": [
    "### HealthSystem\n",
    "\n",
    "HealthSystemID, CountryID, CompletenessOfBirthRegistration, CompeltenessOfDeathRegistration"
   ]
  },
  {
   "cell_type": "code",
   "execution_count": 7,
   "metadata": {
    "tags": []
   },
   "outputs": [],
   "source": [
    "# healthSystem.info()\n",
    "\n",
    "# Creating unique column for primary key\n",
    "healthSystem['HealthSystemID'] = range(1, len(healthSystem.index)+1)\n",
    "\n",
    "# Renaming existing columns\n",
    "healthSystem['CompletenessOfBirthRegistration'] = healthSystem['Completeness of birth registration  % 2009-18']\n",
    "healthSystem['CompletenessOfDeathRegistration'] = healthSystem['Completeness of death registration  % 2008-16']\n",
    "\n",
    "# Merging with country for foreign keys\n",
    "hs = pd.merge(Country_renamed, healthSystem, how = 'inner', on = 'Country')\n",
    "\n",
    "# Selecting column subset\n",
    "HealthSystem = hs[['HealthSystemID', 'CountryID', 'CompletenessOfDeathRegistration', 'CompletenessOfDeathRegistration']]\n",
    "\n",
    "HealthSystem.to_csv('data/clean/HealthSystem.csv')"
   ]
  },
  {
   "cell_type": "markdown",
   "metadata": {},
   "source": [
    "### HealthExpenditure\n",
    "\n",
    "HealthExpenditureID, HealthSystemID, %OfGDP, %OfPublicFunded, %OutOfPocketCosts, PerCapita, ExternalHealthExpenditure"
   ]
  },
  {
   "cell_type": "code",
   "execution_count": 8,
   "metadata": {
    "tags": []
   },
   "outputs": [],
   "source": [
    "# healthSystem.info()\n",
    "\n",
    "# Creating unique column for primary key\n",
    "healthSystem['HealthExpenditureID'] = range(1, len(healthSystem.index)+1)\n",
    "\n",
    "# Renaming existing columns\n",
    "healthSystem['PercentOfGDP'] = healthSystem['Health expenditure Current % of GDP 2016']\n",
    "healthSystem['PercentOfPublicFunded'] = healthSystem['Health expenditure Public % of current 2016']\n",
    "healthSystem['PercentOutOfPocketCosts'] = healthSystem['Health expenditure Out of pocket % of current 2016']\n",
    "healthSystem['PerCapita'] = healthSystem['Health expenditure per capita $ 2016']\n",
    "healthSystem['ExternalHealthExpenditure'] = healthSystem['External health expenditure (% of current health expenditure)   2016']\n",
    "\n",
    "# Selecting column subset\n",
    "he = healthSystem[['HealthExpenditureID', 'HealthSystemID', 'PercentOfGDP', 'PercentOfPublicFunded', 'PercentOutOfPocketCosts', 'PerCapita', 'ExternalHealthExpenditure']]\n",
    "\n",
    "he.to_csv('data/clean/HealthExpenditure.csv')"
   ]
  },
  {
   "cell_type": "markdown",
   "metadata": {},
   "source": [
    "### HealthWorkers\n",
    "HealthWorkerID, HealthSystemID, #OfNursesMidwives, #OfSpecialistSurgicalWorkforce, #OfPhysicians"
   ]
  },
  {
   "cell_type": "code",
   "execution_count": 9,
   "metadata": {
    "tags": []
   },
   "outputs": [],
   "source": [
    "# healthSystem.info()\n",
    "\n",
    "# Creating unique column for primary key\n",
    "healthSystem['HealthWorkerID'] = range(1, len(healthSystem.index)+1)\n",
    "\n",
    "# Renaming existing columns\n",
    "healthSystem['NumberOfNursesMidwives'] = healthSystem['Health workers Nurses and midwives per 1,000 people 2009-18']\n",
    "healthSystem['NumberOfSpecialistSurgicalWorkforce'] = healthSystem['Specialist surgical workforce  per 100,000 population 2008-18']\n",
    "healthSystem['NumberOfPhysicians'] = healthSystem['Health workers Physicians per 1,000 people 2009-18']\n",
    "\n",
    "# Selecting column subset\n",
    "hw = healthSystem[['HealthWorkerID', 'HealthSystemID', 'NumberOfNursesMidwives', 'NumberOfSpecialistSurgicalWorkforce', 'NumberOfPhysicians']]\n",
    "\n",
    "hw.to_csv('data/clean/HealthWorkers.csv')"
   ]
  },
  {
   "cell_type": "markdown",
   "metadata": {},
   "source": [
    "### HealthRiskFactors\n",
    "HealthRiskFactorID, CountryID, HealthSystemID MaleTobaccoUse, FemaleTobaccoUse, IncidenceOfTuberculosis, PrevalenceOfDiabetes"
   ]
  },
  {
   "cell_type": "code",
   "execution_count": 10,
   "metadata": {
    "tags": []
   },
   "outputs": [],
   "source": [
    "# healthRisk.info()\n",
    "\n",
    "# Creating unique column for primary key\n",
    "healthRisk['HealthRiskFactorID'] = range(1, len(healthRisk.index)+1)\n",
    "\n",
    "# Merging with country for foreign key\n",
    "hrf = pd.merge(healthRisk,Country_renamed, how = 'inner', on = 'Country')\n",
    "\n",
    "# Merging with health systems for foreign key\n",
    "hrf_hs = pd.merge(hrf, HealthSystem, how = 'inner', on = 'CountryID')\n",
    "\n",
    "# renaming existing columns\n",
    "hrf_hs['MaleTobaccoUse'] = healthRisk['Prevalence of smoking Male % of adults 2016']\n",
    "hrf_hs['FemaleTobaccoUse'] = healthRisk['Prevalence of smoking female % of adults 2016']\n",
    "hrf_hs['IncidenceOfTuberculosis'] = healthRisk['Incidence of tuberculosis  per 100,000 people 2018']\n",
    "hrf_hs['PrevalenceOfDiabetes'] = healthRisk['Prevalence of diabetes  % of population ages 20 to 79 2019']\n",
    "\n",
    "# selecting useful column subset.\n",
    "HealthRiskFactors = hrf_hs[['HealthRiskFactorID', 'CountryID', 'HealthSystemID', 'MaleTobaccoUse', 'FemaleTobaccoUse', 'IncidenceOfTuberculosis', 'PrevalenceOfDiabetes']]\n",
    "\n",
    "HealthRiskFactors.to_csv('data/clean/HealthRiskFactors.csv')"
   ]
  },
  {
   "cell_type": "markdown",
   "metadata": {},
   "source": [
    "### PopulationCauseOfDeath\n",
    "DeathID, HealthRiskFactorID, Injuries, NonCommunicableDiseases, CommunicableDiseases"
   ]
  },
  {
   "cell_type": "code",
   "execution_count": 11,
   "metadata": {
    "tags": []
   },
   "outputs": [],
   "source": [
    "# healthRisk.info()\n",
    "\n",
    "# Creating unique column for primary key\n",
    "healthRisk['DeathID'] = range(1, len(healthRisk.index)+1)\n",
    "\n",
    "# renaming columns\n",
    "healthRisk['Injuries'] = healthRisk['Cause of death Injuries % of population 2016']\n",
    "healthRisk['NonCommunicableDiseases'] = healthRisk['Cause of death Non-communicable diseases % of population 2016']\n",
    "healthRisk['CommunicableDiseases'] = healthRisk['Cause of death Communicable diseases and maternal, prenatal, and nutrition conditions % of population 2016']\n",
    "\n",
    "# selecting useful column subset\n",
    "PopulationCauseOfDeath = healthRisk[['DeathID', 'HealthRiskFactorID', 'Injuries', 'NonCommunicableDiseases', 'CommunicableDiseases']]\n",
    "\n",
    "PopulationCauseOfDeath.to_csv('data/clean/PopulationCauseOfDeath.csv')"
   ]
  },
  {
   "cell_type": "markdown",
   "metadata": {},
   "source": [
    "### PrevalanceOfHIV\n",
    "IncidenceOfHIV, DeathID, YouthMale, YouthFemale, WomanAge15Plus"
   ]
  },
  {
   "cell_type": "code",
   "execution_count": 12,
   "metadata": {
    "tags": []
   },
   "outputs": [],
   "source": [
    "# healthRisk.info()\n",
    "\n",
    "# Renmaing columns\n",
    "healthRisk['YouthMale'] = healthRisk['Prevalence of HIV Youth, Male % of population ages 15-24 2018']\n",
    "healthRisk['IncidenceOfHIV'] = healthRisk['Incidence of HIV Total per 1,000 uninfected population ages 15-49 2018']\n",
    "healthRisk['YouthFemale'] = healthRisk['Prevalence of HIV Youth, Female % of population ages 15-24 2018']\n",
    "healthRisk['WomanAge15Plus'] = healthRisk[\"Prevalence of HIV Women's share of population ages 15+ living with HIV % 2018\"]\n",
    "\n",
    "# Selecting useful columns (making subset)\n",
    "pHIV = healthRisk[['IncidenceOfHIV', 'DeathID', 'YouthMale', 'YouthFemale', 'WomanAge15Plus']]\n",
    "\n",
    "pHIV.to_csv('data/clean/PrevalenceOfHIV.csv')"
   ]
  },
  {
   "cell_type": "markdown",
   "metadata": {},
   "source": [
    "# Building inserts for the schema"
   ]
  },
  {
   "cell_type": "code",
   "execution_count": 13,
   "metadata": {
    "tags": []
   },
   "outputs": [],
   "source": [
    "# Naming the schema\n",
    "\n",
    "schema_name = 'Environment'  "
   ]
  },
  {
   "cell_type": "code",
   "execution_count": 14,
   "metadata": {
    "tags": []
   },
   "outputs": [],
   "source": [
    "# Defining functions to generate insert statements:\n",
    "\n",
    "import csv\n",
    "\n",
    "def convert(value):\n",
    "    for type in [int, float]:\n",
    "        try:\n",
    "            return type(value)\n",
    "        except ValueError:\n",
    "            continue\n",
    "    # All other types failed; it is a string\n",
    "    return value\n",
    "\n",
    "def construct_insert_sql(file_path, table_name, schema_name, output_file_path):\n",
    "    string_SQL = ''\n",
    "    try:\n",
    "        with open(file_path, 'r') as file:            \n",
    "            reader = csv.reader(file)\n",
    "            headers = ','.join(next(reader))\n",
    "            for row in reader:\n",
    "                row = [convert(x) for x in row].__str__()[1:-1]\n",
    "                string_SQL += f'INSERT INTO {schema_name}.{table_name}({headers}) VALUES ({row});\\n'\n",
    "    except Exception as e:\n",
    "        return f'An error occurred: {str(e)}'\n",
    "\n",
    "    try:\n",
    "        with open(output_file_path, 'w') as out_file:\n",
    "            out_file.write(string_SQL)\n",
    "    except Exception as e:\n",
    "        return f'Failed to write to {output_file_path}: {str(e)}'\n",
    "\n",
    "    return f'SQL commands successfully written to {output_file_path}'"
   ]
  },
  {
   "cell_type": "code",
   "execution_count": 26,
   "metadata": {
    "tags": []
   },
   "outputs": [
    {
     "name": "stdout",
     "output_type": "stream",
     "text": [
      "SQL commands successfully written to Inserts/country_inserts.sql\n"
     ]
    }
   ],
   "source": [
    "# Generating insert statements for Country\n",
    "# CountryID, Name\n",
    "\n",
    "output_file_path = 'Inserts/country_inserts.sql'\n",
    "file_path = 'data/clean/Country.csv'\n",
    "table_name = \"Country\"\n",
    "schema_name = \"Environment\"\n",
    "\n",
    "print(construct_insert_sql(file_path, table_name, schema_name, output_file_path))\n"
   ]
  },
  {
   "cell_type": "code",
   "execution_count": 27,
   "metadata": {
    "tags": []
   },
   "outputs": [
    {
     "name": "stdout",
     "output_type": "stream",
     "text": [
      "SQL commands successfully written to Inserts/emissions_inserts.sql\n"
     ]
    }
   ],
   "source": [
    "# Generating insert statements for EmissionData\n",
    "\n",
    "output_file_path = 'Inserts/emissions_inserts.sql' \n",
    "file_path = 'data/clean/EmissionData.csv'  \n",
    "table_name = 'EmissionData'  \n",
    "schema_name = 'Environment'  \n",
    "\n",
    "\n",
    "print(construct_insert_sql(file_path, table_name, schema_name, output_file_path))"
   ]
  },
  {
   "cell_type": "code",
   "execution_count": 28,
   "metadata": {
    "tags": []
   },
   "outputs": [
    {
     "name": "stdout",
     "output_type": "stream",
     "text": [
      "SQL commands successfully written to Inserts/health_system_inserts.sql\n"
     ]
    }
   ],
   "source": [
    "# Generating insert statements for HealthSystem\n",
    "\n",
    "output_file_path = 'Inserts/health_system_inserts.sql' \n",
    "file_path = 'data/clean/HealthSystem.csv'  \n",
    "table_name = 'HealthSystem'  \n",
    "schema_name = 'Environment'  \n",
    "\n",
    "print(construct_insert_sql(file_path, table_name, schema_name, output_file_path))"
   ]
  },
  {
   "cell_type": "code",
   "execution_count": 29,
   "metadata": {
    "tags": []
   },
   "outputs": [
    {
     "name": "stdout",
     "output_type": "stream",
     "text": [
      "SQL commands successfully written to Inserts/health_expenditure_inserts.sql\n"
     ]
    }
   ],
   "source": [
    "# Generating insert statements for HealthExpenditure\n",
    "\n",
    "output_file_path = 'Inserts/health_expenditure_inserts.sql' \n",
    "file_path = 'data/clean/HealthExpenditure.csv'  \n",
    "table_name = 'HealthExpenditure'  \n",
    "schema_name = 'Environment'  \n",
    "\n",
    "print(construct_insert_sql(file_path, table_name, schema_name, output_file_path))"
   ]
  },
  {
   "cell_type": "code",
   "execution_count": 30,
   "metadata": {
    "tags": []
   },
   "outputs": [
    {
     "name": "stdout",
     "output_type": "stream",
     "text": [
      "SQL commands successfully written to Inserts/health_workers_inserts.sql\n"
     ]
    }
   ],
   "source": [
    "# Generating insert statements for HealthWorkers\n",
    "\n",
    "output_file_path = 'Inserts/health_workers_inserts.sql' \n",
    "file_path = 'data/clean/HealthWorkers.csv'  \n",
    "table_name = 'HealthWorkers'  \n",
    "schema_name = 'Environment'  \n",
    "\n",
    "print(construct_insert_sql(file_path, table_name, schema_name, output_file_path))"
   ]
  },
  {
   "cell_type": "code",
   "execution_count": 31,
   "metadata": {
    "tags": []
   },
   "outputs": [
    {
     "name": "stdout",
     "output_type": "stream",
     "text": [
      "SQL commands successfully written to Inserts/health_risk_factors_inserts.sql\n"
     ]
    }
   ],
   "source": [
    "# Generating insert statements for HealthRiskFactors\n",
    "\n",
    "output_file_path = 'Inserts/health_risk_factors_inserts.sql' \n",
    "file_path = 'data/clean/HealthRiskFactors.csv'  \n",
    "table_name = 'HealthRiskFactors'  \n",
    "schema_name = 'Environment'  \n",
    "\n",
    "print(construct_insert_sql(file_path, table_name, schema_name, output_file_path))"
   ]
  },
  {
   "cell_type": "code",
   "execution_count": 32,
   "metadata": {
    "tags": []
   },
   "outputs": [
    {
     "name": "stdout",
     "output_type": "stream",
     "text": [
      "SQL commands successfully written to Inserts/population_cause_of_death_inserts.sql\n"
     ]
    }
   ],
   "source": [
    "# Generating insert statements for PopulationCauseOfDeath\n",
    "\n",
    "output_file_path = 'Inserts/population_cause_of_death_inserts.sql' \n",
    "file_path = 'data/clean/PopulationCauseOfDeath.csv'  \n",
    "table_name = 'PopulationCauseOfDeath'  \n",
    "schema_name = 'Environment'  \n",
    "\n",
    "print(construct_insert_sql(file_path, table_name, schema_name, output_file_path))"
   ]
  },
  {
   "cell_type": "code",
   "execution_count": 33,
   "metadata": {
    "tags": []
   },
   "outputs": [
    {
     "name": "stdout",
     "output_type": "stream",
     "text": [
      "SQL commands successfully written to Inserts/prevalence_of_hiv_inserts.sql\n"
     ]
    }
   ],
   "source": [
    "# Generating insert statements for PrevalenceOfHIV\n",
    "\n",
    "output_file_path = 'Inserts/prevalence_of_hiv_inserts.sql' \n",
    "file_path = 'data/clean/PrevalenceOfHIV.csv'  \n",
    "table_name = 'PrevalenceOfHIV'  \n",
    "schema_name = 'Environment'  \n",
    "\n",
    "print(construct_insert_sql(file_path, table_name, schema_name, output_file_path))"
   ]
  },
  {
   "cell_type": "code",
   "execution_count": null,
   "metadata": {},
   "outputs": [],
   "source": []
  }
 ],
 "metadata": {
  "kernelspec": {
   "display_name": "Python 3 (ipykernel)",
   "language": "python",
   "name": "python3"
  },
  "language_info": {
   "codemirror_mode": {
    "name": "ipython",
    "version": 3
   },
   "file_extension": ".py",
   "mimetype": "text/x-python",
   "name": "python",
   "nbconvert_exporter": "python",
   "pygments_lexer": "ipython3",
   "version": "3.10.12"
  }
 },
 "nbformat": 4,
 "nbformat_minor": 4
}
