import pandas as pd
import csv


greenhouse = pd.read_csv('RawData/greenhouse_gas_emissions.csv')
healthRisk = pd.read_csv('RawData/Health_Risk_factors.csv')
healthSystem = pd.read_csv('RawData/health_system.csv')


greenhouse['Country'].nunique()
# 214 unique countries

healthRisk['Country'].nunique()
# 214 unique countries

healthSystem['Country'].nunique()
# 214 unique countries

# ASSUMING ALL COUNTRIES ARE THE SAME...


# Building country data

country_names = greenhouse['Country']
# df = pd.DataFrame({'x':x, 'y':y})

country = pd.DataFrame({'CountryID' : range(1, 214+1),
                       'Name' : country_names})
country.to_csv('FilteredData/Country.csv')


greenhouse.info()
greenhouse['CountryID'] = country['CountryID']

emissions = greenhouse

emissions['CarbonDioxideEmissions'] = 


















