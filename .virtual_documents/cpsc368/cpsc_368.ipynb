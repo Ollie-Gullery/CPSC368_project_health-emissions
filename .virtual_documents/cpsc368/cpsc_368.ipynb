# Importing necessary libraries:

import pandas as pd
import csv


# Reading in raw data
greenhouse = pd.read_csv('data/raw/greenhouse_gas_emissions.csv')
healthRisk = pd.read_csv('data/raw/Health_Risk_factors.csv')
healthSystem = pd.read_csv('data/raw/health_system.csv')
emissions = pd.read_csv('data/raw/emissions.csv')


# Determining if the same number of countries are present in each file

greenhouse['Country'].nunique()
# 214 unique countries

healthRisk['Country'].nunique()
# 214 unique countries

healthSystem['Country'].nunique()
# 214 unique countries

# ASSUMING ALL COUNTRIES ARE THE SAME...


# Building country data

country_names = greenhouse['Country']

# Creating CountryID column
country = pd.DataFrame({'CountryID' : range(1, 214+1),
                       'Name' : country_names})

# Saving country csv
country.to_csv('data/clean/Country.csv')


# greenhouse.info()
# emissions.info()

EmissionData = greenhouse

# Renaming existing columns
EmissionData['TotalGHGEmissions'] = greenhouse['Total greenhouse gas emissions  thousand metric tons of carbon dioxide equivalent 2012']
EmissionData['CarbonDioxideEmissions'] = emissions['Carbon dioxide emissions Total thousand metric tons 2014']
EmissionData['NitrousOxideEmissions'] = greenhouse['Nitrous oxide emissions  thousand metric tons of carbon dioxide equivalent 2012']
EmissionData['MethaneEmissions'] = greenhouse['Methane emissions  thousand metric tons of carbon dioxide equivalent 2012']

# Adding a unique column 
EmissionData['EmissionID'] = range(1, len(EmissionData.index)+1)

# Selecting columns for subset.
em = EmissionData[['CarbonDioxideEmissions', 'NitrousOxideEmissions', 'TotalGHGEmissions', 'MethaneEmissions', 'Country', 'EmissionID']]

Country_renamed = country   
Country_renamed['Country'] = country['Name']

# Merging with country data for foreign keys
emission_data = pd.merge(em, Country_renamed, how = 'inner', on = 'Country')
                                                         
emission_data.to_csv('data/clean/EmissionData.csv') 


# healthSystem.info()

# Creating unique column for primary key
healthSystem['HealthSystemID'] = range(1, len(healthSystem.index)+1)

# Renaming existing columns
healthSystem['CompletenessOfBirthRegistration'] = healthSystem['Completeness of birth registration  % 2009-18']
healthSystem['CompletenessOfDeathRegistration'] = healthSystem['Completeness of death registration  % 2008-16']

# Merging with country for foreign keys
hs = pd.merge(Country_renamed, healthSystem, how = 'inner', on = 'Country')

# Selecting column subset
HealthSystem = hs[['HealthSystemID', 'CountryID', 'CompletenessOfDeathRegistration', 'CompletenessOfDeathRegistration']]

HealthSystem.to_csv('data/clean/HealthSystem.csv')


# healthSystem.info()

# Creating unique column for primary key
healthSystem['HealthExpenditureID'] = range(1, len(healthSystem.index)+1)

# Renaming existing columns
healthSystem['PercentOfGDP'] = healthSystem['Health expenditure Current % of GDP 2016']
healthSystem['PercentOfPublicFunded'] = healthSystem['Health expenditure Public % of current 2016']
healthSystem['PercentOutOfPocketCosts'] = healthSystem['Health expenditure Out of pocket % of current 2016']
healthSystem['PerCapita'] = healthSystem['Health expenditure per capita $ 2016']
healthSystem['ExternalHealthExpenditure'] = healthSystem['External health expenditure (% of current health expenditure)   2016']

# Selecting column subset
he = healthSystem[['HealthExpenditureID', 'HealthSystemID', 'PercentOfGDP', 'PercentOfPublicFunded', 'PercentOutOfPocketCosts', 'PerCapita', 'ExternalHealthExpenditure']]

he.to_csv('data/clean/HealthExpenditure.csv')


# healthSystem.info()

# Creating unique column for primary key
healthSystem['HealthWorkerID'] = range(1, len(healthSystem.index)+1)

# Renaming existing columns
healthSystem['NumberOfNursesMidwives'] = healthSystem['Health workers Nurses and midwives per 1,000 people 2009-18']
healthSystem['NumberOfSpecialistSurgicalWorkforce'] = healthSystem['Specialist surgical workforce  per 100,000 population 2008-18']
healthSystem['NumberOfPhysicians'] = healthSystem['Health workers Physicians per 1,000 people 2009-18']

# Selecting column subset
hw = healthSystem[['HealthWorkerID', 'HealthSystemID', 'NumberOfNursesMidwives', 'NumberOfSpecialistSurgicalWorkforce', 'NumberOfPhysicians']]

hw.to_csv('data/clean/HealthWorkers.csv')


# healthRisk.info()

# Creating unique column for primary key
healthRisk['HealthRiskFactorID'] = range(1, len(healthRisk.index)+1)

# Merging with country for foreign key
hrf = pd.merge(healthRisk,Country_renamed, how = 'inner', on = 'Country')

# Merging with health systems for foreign key
hrf_hs = pd.merge(hrf, HealthSystem, how = 'inner', on = 'CountryID')

# renaming existing columns
hrf_hs['MaleTobaccoUse'] = healthRisk['Prevalence of smoking Male % of adults 2016']
hrf_hs['FemaleTobaccoUse'] = healthRisk['Prevalence of smoking female % of adults 2016']
hrf_hs['IncidenceOfTuberculosis'] = healthRisk['Incidence of tuberculosis  per 100,000 people 2018']
hrf_hs['PrevalenceOfDiabetes'] = healthRisk['Prevalence of diabetes  % of population ages 20 to 79 2019']

# selecting useful column subset.
HealthRiskFactors = hrf_hs[['HealthRiskFactorID', 'CountryID', 'HealthSystemID', 'MaleTobaccoUse', 'FemaleTobaccoUse', 'IncidenceOfTuberculosis', 'PrevalenceOfDiabetes']]

HealthRiskFactors.to_csv('data/clean/HealthRiskFactors.csv')


# healthRisk.info()

# Creating unique column for primary key
healthRisk['DeathID'] = range(1, len(healthRisk.index)+1)

# renaming columns
healthRisk['Injuries'] = healthRisk['Cause of death Injuries % of population 2016']
healthRisk['NonCommunicableDiseases'] = healthRisk['Cause of death Non-communicable diseases % of population 2016']
healthRisk['CommunicableDiseases'] = healthRisk['Cause of death Communicable diseases and maternal, prenatal, and nutrition conditions % of population 2016']

# selecting useful column subset
PopulationCauseOfDeath = healthRisk[['DeathID', 'HealthRiskFactorID', 'Injuries', 'NonCommunicableDiseases', 'CommunicableDiseases']]

PopulationCauseOfDeath.to_csv('data/clean/PopulationCauseOfDeath.csv')


# healthRisk.info()

# Renmaing columns
healthRisk['YouthMale'] = healthRisk['Prevalence of HIV Youth, Male % of population ages 15-24 2018']
healthRisk['IncidenceOfHIV'] = healthRisk['Incidence of HIV Total per 1,000 uninfected population ages 15-49 2018']
healthRisk['YouthFemale'] = healthRisk['Prevalence of HIV Youth, Female % of population ages 15-24 2018']
healthRisk['WomanAge15Plus'] = healthRisk["Prevalence of HIV Women's share of population ages 15+ living with HIV % 2018"]

# Selecting useful columns (making subset)
pHIV = healthRisk[['IncidenceOfHIV', 'DeathID', 'YouthMale', 'YouthFemale', 'WomanAge15Plus']]

pHIV.to_csv('data/clean/PrevalenceOfHIV.csv')


# Naming the schema

schema_name = 'Environment'  


# Defining functions to generate insert statements:

import csv

def convert(value):
    for type in [int, float]:
        try:
            return type(value)
        except ValueError:
            continue
    # All other types failed; it is a string
    return value

def construct_insert_sql(file_path, table_name, schema_name, output_file_path):
    string_SQL = ''
    try:
        with open(file_path, 'r') as file:            
            reader = csv.reader(file)
            headers = ','.join(next(reader))
            for row in reader:
                row = [convert(x) for x in row].__str__()[1:-1]
                string_SQL += f'INSERT INTO {schema_name}.{table_name}({headers}) VALUES ({row});\n'
    except Exception as e:
        return f'An error occurred: {str(e)}'

    try:
        with open(output_file_path, 'w') as out_file:
            out_file.write(string_SQL)
    except Exception as e:
        return f'Failed to write to {output_file_path}: {str(e)}'

    return f'SQL commands successfully written to {output_file_path}'


# Generating insert statements for Country
# CountryID, Name

output_file_path = 'Inserts/country_inserts.sql'
file_path = 'data/clean/Country.csv'
table_name = "Country"
schema_name = "Environment"

print(construct_insert_sql(file_path, table_name, schema_name, output_file_path))


# Generating insert statements for EmissionData
# CarbonDioxideEmissions, NitrousOxideEmissions, TotalGHGEmissions, MethaneEmissions, CountryID, Name

output_file_path = 'Inserts/emissions_inserts.sql' 
file_path = 'data/clean/EmissionData.csv'  
table_name = 'EmissionData'  
schema_name = 'Environment'  


print(construct_insert_sql(file_path, table_name, schema_name, output_file_path))


# Generating insert statements for HealthSystem

output_file_path = 'Inserts/health_system_inserts.sql' 
file_path = 'data/clean/HealthSystem.csv'  
table_name = 'HealthSystem'  
schema_name = 'Environment'  

print(construct_insert_sql(file_path, table_name, schema_name, output_file_path))


# Generating insert statements for HealthExpenditure

output_file_path = 'Inserts/health_expenditure_inserts.sql' 
file_path = 'data/clean/HealthExpenditure.csv'  
table_name = 'HealthExpenditure'  
schema_name = 'Environment'  

print(construct_insert_sql(file_path, table_name, schema_name, output_file_path))


# Generating insert statements for HealthWorkers

output_file_path = 'Inserts/health_workers_inserts.sql' 
file_path = 'data/clean/HealthWorkers.csv'  
table_name = 'HealthWorkers'  
schema_name = 'Environment'  

print(construct_insert_sql(file_path, table_name, schema_name, output_file_path))


# Generating insert statements for HealthRiskFactors

output_file_path = 'Inserts/health_risk_factors_inserts.sql' 
file_path = 'data/clean/HealthRiskFactors.csv'  
table_name = 'HealthRiskFactors'  
schema_name = 'Environment'  

print(construct_insert_sql(file_path, table_name, schema_name, output_file_path))


# Generating insert statements for PopulationCauseOfDeath

output_file_path = 'Inserts/population_cause_of_death_inserts.sql' 
file_path = 'data/clean/PopulationCauseOfDeath.csv'  
table_name = 'PopulationCauseOfDeath'  
schema_name = 'Environment'  

print(construct_insert_sql(file_path, table_name, schema_name, output_file_path))


# Generating insert statements for PrevalenceOfHIV

output_file_path = 'Inserts/prevalence_of_hiv_inserts.sql' 
file_path = 'data/clean/PrevalenceOfHIV.csv'  
table_name = 'PrevalenceOfHIV'  
schema_name = 'Environment'  

print(construct_insert_sql(file_path, table_name, schema_name, output_file_path))
